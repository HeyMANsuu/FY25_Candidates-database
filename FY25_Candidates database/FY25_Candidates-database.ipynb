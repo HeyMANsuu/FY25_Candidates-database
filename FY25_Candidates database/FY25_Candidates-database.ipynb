{
 "cells": [
  {
   "cell_type": "code",
   "execution_count": 2,
   "metadata": {},
   "outputs": [
    {
     "ename": "ModuleNotFoundError",
     "evalue": "No module named 'pandas'",
     "output_type": "error",
     "traceback": [
      "\u001b[31m---------------------------------------------------------------------------\u001b[39m",
      "\u001b[31mModuleNotFoundError\u001b[39m                       Traceback (most recent call last)",
      "\u001b[36mCell\u001b[39m\u001b[36m \u001b[39m\u001b[32mIn[2]\u001b[39m\u001b[32m, line 1\u001b[39m\n\u001b[32m----> \u001b[39m\u001b[32m1\u001b[39m \u001b[38;5;28;01mimport\u001b[39;00m\u001b[38;5;250m \u001b[39m\u001b[34;01mpandas\u001b[39;00m\u001b[38;5;250m \u001b[39m\u001b[38;5;28;01mas\u001b[39;00m\u001b[38;5;250m \u001b[39m\u001b[34;01mpd\u001b[39;00m\n\u001b[32m      3\u001b[39m \u001b[38;5;66;03m# Load the CSV file and skip the first row\u001b[39;00m\n\u001b[32m      4\u001b[39m df = pd.read_csv(\u001b[33m\"\u001b[39m\u001b[33mFY25_Candidates database.csv\u001b[39m\u001b[33m\"\u001b[39m)\n",
      "\u001b[31mModuleNotFoundError\u001b[39m: No module named 'pandas'"
     ]
    }
   ],
   "source": [
    "import pandas as pd\n",
    "\n",
    "# Load the CSV file and skip the first row\n",
    "df = pd.read_csv(\"FY25_Candidates database.csv\")\n",
    "\n",
    "# Drop unnamed columns\n",
    "# df = df.loc[:, ~df.columns.str.contains('^Unnamed')]\n",
    "\n",
    "# Display the first few rows of the cleaned dataset\n",
    "print(df.head())"
   ]
  },
  {
   "cell_type": "code",
   "execution_count": null,
   "metadata": {},
   "outputs": [
    {
     "ename": "NameError",
     "evalue": "name 'df' is not defined",
     "output_type": "error",
     "traceback": [
      "\u001b[31m---------------------------------------------------------------------------\u001b[39m",
      "\u001b[31mNameError\u001b[39m                                 Traceback (most recent call last)",
      "\u001b[36mCell\u001b[39m\u001b[36m \u001b[39m\u001b[32mIn[3]\u001b[39m\u001b[32m, line 1\u001b[39m\n\u001b[32m----> \u001b[39m\u001b[32m1\u001b[39m \u001b[38;5;28mprint\u001b[39m(\u001b[43mdf\u001b[49m.columns)\n",
      "\u001b[31mNameError\u001b[39m: name 'df' is not defined"
     ]
    }
   ],
   "source": [
    "print(df.columns)"
   ]
  },
  {
   "cell_type": "code",
   "execution_count": null,
   "metadata": {},
   "outputs": [
    {
     "ename": "NameError",
     "evalue": "name 'df' is not defined",
     "output_type": "error",
     "traceback": [
      "\u001b[31m---------------------------------------------------------------------------\u001b[39m",
      "\u001b[31mNameError\u001b[39m                                 Traceback (most recent call last)",
      "\u001b[36mCell\u001b[39m\u001b[36m \u001b[39m\u001b[32mIn[4]\u001b[39m\u001b[32m, line 1\u001b[39m\n\u001b[32m----> \u001b[39m\u001b[32m1\u001b[39m \u001b[43mdf\u001b[49m.info()\n",
      "\u001b[31mNameError\u001b[39m: name 'df' is not defined"
     ]
    }
   ],
   "source": [
    "df.info()\n"
   ]
  },
  {
   "cell_type": "code",
   "execution_count": null,
   "metadata": {},
   "outputs": [
    {
     "ename": "NameError",
     "evalue": "name 'df' is not defined",
     "output_type": "error",
     "traceback": [
      "\u001b[31m---------------------------------------------------------------------------\u001b[39m",
      "\u001b[31mNameError\u001b[39m                                 Traceback (most recent call last)",
      "\u001b[36mCell\u001b[39m\u001b[36m \u001b[39m\u001b[32mIn[5]\u001b[39m\u001b[32m, line 1\u001b[39m\n\u001b[32m----> \u001b[39m\u001b[32m1\u001b[39m \u001b[38;5;28mprint\u001b[39m(\u001b[43mdf\u001b[49m[\u001b[33m\"\u001b[39m\u001b[33mTechnonlogies/Skills known\u001b[39m\u001b[33m\"\u001b[39m].dtype)\n\u001b[32m      2\u001b[39m \u001b[38;5;28mprint\u001b[39m(df[\u001b[33m\"\u001b[39m\u001b[33mTech_points\u001b[39m\u001b[33m\"\u001b[39m].dtype)\n\u001b[32m      3\u001b[39m \u001b[38;5;28mprint\u001b[39m(df[\u001b[33m\"\u001b[39m\u001b[33mSports\u001b[39m\u001b[33m\"\u001b[39m].dtype)\n",
      "\u001b[31mNameError\u001b[39m: name 'df' is not defined"
     ]
    }
   ],
   "source": [
    "print(df[\"Technonlogies/Skills known\"].dtype)\n",
    "print(df[\"Tech_points\"].dtype)\n",
    "print(df[\"Sports\"].dtype)\n",
    "print(df[\"Sports_Points\"].dtype)\n",
    "print(df[\"ExtraCurriculum\"].dtype)\n",
    "print(df[\"ExxCur_Points\"].dtype)\n"
   ]
  },
  {
   "cell_type": "code",
   "execution_count": null,
   "metadata": {},
   "outputs": [
    {
     "ename": "NameError",
     "evalue": "name 'df' is not defined",
     "output_type": "error",
     "traceback": [
      "\u001b[31m---------------------------------------------------------------------------\u001b[39m",
      "\u001b[31mNameError\u001b[39m                                 Traceback (most recent call last)",
      "\u001b[36mCell\u001b[39m\u001b[36m \u001b[39m\u001b[32mIn[6]\u001b[39m\u001b[32m, line 2\u001b[39m\n\u001b[32m      1\u001b[39m \u001b[38;5;66;03m# Replace missing values in 'Graduation CGPA' with 0.0\u001b[39;00m\n\u001b[32m----> \u001b[39m\u001b[32m2\u001b[39m df[\u001b[33m'\u001b[39m\u001b[33mGraduation CGPA\u001b[39m\u001b[33m'\u001b[39m] = \u001b[43mdf\u001b[49m[\u001b[33m'\u001b[39m\u001b[33mGraduation CGPA\u001b[39m\u001b[33m'\u001b[39m].fillna(\u001b[32m0.0\u001b[39m)\n",
      "\u001b[31mNameError\u001b[39m: name 'df' is not defined"
     ]
    }
   ],
   "source": [
    "# Replace missing values in 'Graduation CGPA' with 0.0\n",
    "df['Graduation CGPA'] = df['Graduation CGPA'].fillna(0.0)"
   ]
  },
  {
   "cell_type": "code",
   "execution_count": null,
   "metadata": {},
   "outputs": [
    {
     "ename": "NameError",
     "evalue": "name 'df' is not defined",
     "output_type": "error",
     "traceback": [
      "\u001b[31m---------------------------------------------------------------------------\u001b[39m",
      "\u001b[31mNameError\u001b[39m                                 Traceback (most recent call last)",
      "\u001b[36mCell\u001b[39m\u001b[36m \u001b[39m\u001b[32mIn[7]\u001b[39m\u001b[32m, line 3\u001b[39m\n\u001b[32m      1\u001b[39m \u001b[38;5;66;03m# Select relevant features for prediction\u001b[39;00m\n\u001b[32m      2\u001b[39m features = [\u001b[33m'\u001b[39m\u001b[33m10th Board\u001b[39m\u001b[33m%\u001b[39m\u001b[33m'\u001b[39m, \u001b[33m'\u001b[39m\u001b[33m12th Board\u001b[39m\u001b[33m%\u001b[39m\u001b[33m'\u001b[39m, \u001b[33m'\u001b[39m\u001b[33mGraduation Degree\u001b[39m\u001b[33m'\u001b[39m, \u001b[33m'\u001b[39m\u001b[33mGrad-Specialization\u001b[39m\u001b[33m'\u001b[39m, \u001b[33m'\u001b[39m\u001b[33mTechnonlogies/Skills known\u001b[39m\u001b[33m'\u001b[39m]\n\u001b[32m----> \u001b[39m\u001b[32m3\u001b[39m X = \u001b[43mdf\u001b[49m[features]\n\u001b[32m      4\u001b[39m y = df[\u001b[33m'\u001b[39m\u001b[33mGraduation CGPA\u001b[39m\u001b[33m'\u001b[39m]\n\u001b[32m      6\u001b[39m \u001b[38;5;66;03m# Convert categorical variables to dummy variables\u001b[39;00m\n",
      "\u001b[31mNameError\u001b[39m: name 'df' is not defined"
     ]
    }
   ],
   "source": [
    "# Select relevant features for prediction\n",
    "features = ['10th Board%', '12th Board%', 'Graduation Degree', 'Grad-Specialization', 'Technonlogies/Skills known']\n",
    "X = df[features]\n",
    "y = df['Graduation CGPA']\n",
    "\n",
    "# Convert categorical variables to dummy variables\n",
    "X = pd.get_dummies(X, drop_first=True)\n",
    "\n",
    "# Display the first few rows of the processed data\n",
    "print(X.head())\n",
    "print(y.head())"
   ]
  },
  {
   "cell_type": "code",
   "execution_count": null,
   "metadata": {},
   "outputs": [
    {
     "ename": "ModuleNotFoundError",
     "evalue": "No module named 'sklearn'",
     "output_type": "error",
     "traceback": [
      "\u001b[31m---------------------------------------------------------------------------\u001b[39m",
      "\u001b[31mModuleNotFoundError\u001b[39m                       Traceback (most recent call last)",
      "\u001b[36mCell\u001b[39m\u001b[36m \u001b[39m\u001b[32mIn[9]\u001b[39m\u001b[32m, line 1\u001b[39m\n\u001b[32m----> \u001b[39m\u001b[32m1\u001b[39m \u001b[38;5;28;01mfrom\u001b[39;00m\u001b[38;5;250m \u001b[39m\u001b[34;01msklearn\u001b[39;00m\u001b[34;01m.\u001b[39;00m\u001b[34;01mmodel_selection\u001b[39;00m\u001b[38;5;250m \u001b[39m\u001b[38;5;28;01mimport\u001b[39;00m train_test_split\n\u001b[32m      3\u001b[39m X_train, X_test, y_train, y_test = train_test_split(X, y, test_size=\u001b[32m0.2\u001b[39m, random_state=\u001b[32m42\u001b[39m)\n",
      "\u001b[31mModuleNotFoundError\u001b[39m: No module named 'sklearn'"
     ]
    }
   ],
   "source": [
    "from sklearn.model_selection import train_test_split\n",
    "\n",
    "X_train, X_test, y_train, y_test = train_test_split(X, y, test_size=0.2, random_state=42)"
   ]
  },
  {
   "cell_type": "code",
   "execution_count": null,
   "metadata": {},
   "outputs": [],
   "source": [
    "from sklearn.preprocessing import StandardScaler\n",
    "\n",
    "scaler = StandardScaler()\n",
    "X_train_scaled = scaler.fit_transform(X_train)\n",
    "X_test_scaled = scaler.transform(X_test)"
   ]
  },
  {
   "cell_type": "code",
   "execution_count": null,
   "metadata": {},
   "outputs": [
    {
     "name": "stdout",
     "output_type": "stream",
     "text": [
      "10th Board%                                                                                                                                                                                                                     0\n",
      "12th Board%                                                                                                                                                                                                                     1\n",
      "Graduation Degree_B.E.                                                                                                                                                                                                          0\n",
      "Graduation Degree_BE                                                                                                                                                                                                            0\n",
      "Grad-Specialization_Information Technology                                                                                                                                                                                      0\n",
      "Grad-Specialization_Information technology                                                                                                                                                                                      0\n",
      "Grad-Specialization_information Technology                                                                                                                                                                                      0\n",
      "Grad-Specialization_information technnology                                                                                                                                                                                     0\n",
      "Grad-Specialization_information technology                                                                                                                                                                                      0\n",
      "Technonlogies/Skills known_C++, Python, SQL, HTML,CSS , Javascript, NODE , REACT Problem Solving and Analysis                                                                                                                   0\n",
      "Technonlogies/Skills known_C++, Python, SQL, Machine Learning, Microsoft Office suite, React.Js, HTML, CSS, SCSS, C langauge, SQLite3, MySQL\\n                                                                                  0\n",
      "Technonlogies/Skills known_C++, Python, SQL,DSA, HTML,CSS                                                                                                                                                                       0\n",
      "Technonlogies/Skills known_C++, Python,SQL,Data Science, Machine Learning,Numpy, Pandas, matplotlib, seaborn                                                                                                                    0\n",
      "Technonlogies/Skills known_C++, SQL,DSA, HTML,CSS,React Js, Node Js,Express ,Taillwind ,Mongodb ,Git,Github                                                                                                                     0\n",
      "Technonlogies/Skills known_C++,SQL, HTML, CSS, JS, Reactjs                                                                                                                                                                      0\n",
      "Technonlogies/Skills known_C, C++, HTML, CSS, JavaScript, Data science, Machine Learning, Python, Java, React, Node.js, SQL, MongoDB                                                                                            0\n",
      "Technonlogies/Skills known_C,c++,Html,css,Javascript,typescript,React js, Node js, express js, postman, socket io, tailwind css, material ui, mongo db, SQL, dart, flutter                                                      0\n",
      "Technonlogies/Skills known_HTML, CSS, JavaScript, Python, C++                                                                                                                                                                   0\n",
      "Technonlogies/Skills known_HTML, CSS, Javascript, MYSQL, Cloud Database, Core Java, ReactJS, Nodejs, Express.js, MongoDB, Socket.io, Version Control, Material UI,  API, DSA                                                    0\n",
      "Technonlogies/Skills known_HTML, CSS, SQL, Python, Javascript                                                                                                                                                                   0\n",
      "Technonlogies/Skills known_HTML, CSS, SQL, Python, Javascript,React                                                                                                                                                             0\n",
      "Technonlogies/Skills known_HTML,CSS,Javascript,C++,SQL,Figma,                                                                                                                                                                   0\n",
      "Technonlogies/Skills known_HTML,CSS,MySQL,Python,Reactjs,MongoDB,JavaScript,PHP                                                                                                                                                 0\n",
      "Technonlogies/Skills known_HTML,CSS,Python,Bootstrap,SQL,Machine Learning, pandas,numpy,matplotlib                                                                                                                              0\n",
      "Technonlogies/Skills known_HTML,Python,CSS,Javascript,MYSQL,ReactJS,ML                                                                                                                                                          0\n",
      "Technonlogies/Skills known_Html, CSS, JavaScript, ReactJS, NodeJS, Strapi, Express.js,Mongodb,SQL,                                                                                                                              0\n",
      "Technonlogies/Skills known_Java , R , python, C ,html , css ,javascript,SQL ,Machine Learning                                                                                                                                   0\n",
      "Technonlogies/Skills known_Java, SQL, Python, HTML, CSS, Javascript, Flask, AJAX, Node.js                                                                                                                                       0\n",
      "Technonlogies/Skills known_Java, Spring, spring boot, html, css, javascript, SQL, mongodb, thymeleaf, j2ee, jdbc, git, postman                                                                                                  0\n",
      "Technonlogies/Skills known_Java,C,Mongodb,Express,React,Nodejs,Html,Javascript,SQL,Data structure and algortihm                                                                                                                 0\n",
      "Technonlogies/Skills known_Java,SQL,HTML,CSS,Git,Github,Node.js,Express.js,MongoDB,React.js,Javascript,DSA                                                                                                                      0\n",
      "Technonlogies/Skills known_Java,SQL,HTML,CSS,Javascript, Git,Github, React.js, python                                                                                                                                           0\n",
      "Technonlogies/Skills known_Java,python,html,css,java script,react ,data structure and algorithms,flutter,machine learning                                                                                                       0\n",
      "Technonlogies/Skills known_Languages: C\\nTechnologies & Frameworks: HTML, CSS, Bootstrap, ReactJS, Node.js, Express JS, MongoDB, SQL, Postgres,\\nMiscellaneous: DSA,Microsoft Word, Microsoft PowerPoint, Microsoft Excel,OS    0\n",
      "Technonlogies/Skills known_MERN stack, DSA, C, C++,SQL,NOSQL,OOPS,computer fundamentals                                                                                                                                         0\n",
      "Technonlogies/Skills known_Python , C++, C , HTML ,CSS, SQL,DSA                                                                                                                                                                 0\n",
      "Technonlogies/Skills known_Python ,Django, C++ ,Machine Learning, SQL ,React JS, MongoDB ,HTML ,CSS ,Tailwind CSS,  Javascript, Tools: GitHub, VS Code, PyCharm, pgAdmin,SQLite3, Canva, Figma, Firebase                        0\n",
      "Technonlogies/Skills known_Python, C++, Java, MySQL, MongoDB, PostgreSQL, scikit-learn, TensorFlow, Matplotlib, NumPy, Pandas, HTML, CSS, JavaScript                                                                            0\n",
      "Technonlogies/Skills known_Python, C++, Javascript, CSS, HTML, SQL                                                                                                                                                              0\n",
      "Technonlogies/Skills known_Python, DSA(using Java),Data Analysis,EDA, Mysql, ML, DBMS, HTML, CSS, Bootstrap,                                                                                                                    0\n",
      "Technonlogies/Skills known_Python, SQL, CSS, HTML, MongoDBJS , REACT, POSTGRESQL, Mobile Application Development, Bootstrap                                                                                                     0\n",
      "Technonlogies/Skills known_Python, SQL,MySql, HTML, CSS,Excel,C,pandas,numpy                                                                                                                                                    0\n",
      "Technonlogies/Skills known_html,css, javascript,java,c,c++                                                                                                                                                                      0\n",
      "Technonlogies/Skills known_python , c++ ,sql ,html,css ,Git and version control ,collab                                                                                                                                         0\n",
      "dtype: int64\n",
      "10th Board%                                                                                                                                                                                                                     0\n",
      "12th Board%                                                                                                                                                                                                                     2\n",
      "Graduation Degree_B.E.                                                                                                                                                                                                          0\n",
      "Graduation Degree_BE                                                                                                                                                                                                            0\n",
      "Grad-Specialization_Information Technology                                                                                                                                                                                      0\n",
      "Grad-Specialization_Information technology                                                                                                                                                                                      0\n",
      "Grad-Specialization_information Technology                                                                                                                                                                                      0\n",
      "Grad-Specialization_information technnology                                                                                                                                                                                     0\n",
      "Grad-Specialization_information technology                                                                                                                                                                                      0\n",
      "Technonlogies/Skills known_C++, Python, SQL, HTML,CSS , Javascript, NODE , REACT Problem Solving and Analysis                                                                                                                   0\n",
      "Technonlogies/Skills known_C++, Python, SQL, Machine Learning, Microsoft Office suite, React.Js, HTML, CSS, SCSS, C langauge, SQLite3, MySQL\\n                                                                                  0\n",
      "Technonlogies/Skills known_C++, Python, SQL,DSA, HTML,CSS                                                                                                                                                                       0\n",
      "Technonlogies/Skills known_C++, Python,SQL,Data Science, Machine Learning,Numpy, Pandas, matplotlib, seaborn                                                                                                                    0\n",
      "Technonlogies/Skills known_C++, SQL,DSA, HTML,CSS,React Js, Node Js,Express ,Taillwind ,Mongodb ,Git,Github                                                                                                                     0\n",
      "Technonlogies/Skills known_C++,SQL, HTML, CSS, JS, Reactjs                                                                                                                                                                      0\n",
      "Technonlogies/Skills known_C, C++, HTML, CSS, JavaScript, Data science, Machine Learning, Python, Java, React, Node.js, SQL, MongoDB                                                                                            0\n",
      "Technonlogies/Skills known_C,c++,Html,css,Javascript,typescript,React js, Node js, express js, postman, socket io, tailwind css, material ui, mongo db, SQL, dart, flutter                                                      0\n",
      "Technonlogies/Skills known_HTML, CSS, JavaScript, Python, C++                                                                                                                                                                   0\n",
      "Technonlogies/Skills known_HTML, CSS, Javascript, MYSQL, Cloud Database, Core Java, ReactJS, Nodejs, Express.js, MongoDB, Socket.io, Version Control, Material UI,  API, DSA                                                    0\n",
      "Technonlogies/Skills known_HTML, CSS, SQL, Python, Javascript                                                                                                                                                                   0\n",
      "Technonlogies/Skills known_HTML, CSS, SQL, Python, Javascript,React                                                                                                                                                             0\n",
      "Technonlogies/Skills known_HTML,CSS,Javascript,C++,SQL,Figma,                                                                                                                                                                   0\n",
      "Technonlogies/Skills known_HTML,CSS,MySQL,Python,Reactjs,MongoDB,JavaScript,PHP                                                                                                                                                 0\n",
      "Technonlogies/Skills known_HTML,CSS,Python,Bootstrap,SQL,Machine Learning, pandas,numpy,matplotlib                                                                                                                              0\n",
      "Technonlogies/Skills known_HTML,Python,CSS,Javascript,MYSQL,ReactJS,ML                                                                                                                                                          0\n",
      "Technonlogies/Skills known_Html, CSS, JavaScript, ReactJS, NodeJS, Strapi, Express.js,Mongodb,SQL,                                                                                                                              0\n",
      "Technonlogies/Skills known_Java , R , python, C ,html , css ,javascript,SQL ,Machine Learning                                                                                                                                   0\n",
      "Technonlogies/Skills known_Java, SQL, Python, HTML, CSS, Javascript, Flask, AJAX, Node.js                                                                                                                                       0\n",
      "Technonlogies/Skills known_Java, Spring, spring boot, html, css, javascript, SQL, mongodb, thymeleaf, j2ee, jdbc, git, postman                                                                                                  0\n",
      "Technonlogies/Skills known_Java,C,Mongodb,Express,React,Nodejs,Html,Javascript,SQL,Data structure and algortihm                                                                                                                 0\n",
      "Technonlogies/Skills known_Java,SQL,HTML,CSS,Git,Github,Node.js,Express.js,MongoDB,React.js,Javascript,DSA                                                                                                                      0\n",
      "Technonlogies/Skills known_Java,SQL,HTML,CSS,Javascript, Git,Github, React.js, python                                                                                                                                           0\n",
      "Technonlogies/Skills known_Java,python,html,css,java script,react ,data structure and algorithms,flutter,machine learning                                                                                                       0\n",
      "Technonlogies/Skills known_Languages: C\\nTechnologies & Frameworks: HTML, CSS, Bootstrap, ReactJS, Node.js, Express JS, MongoDB, SQL, Postgres,\\nMiscellaneous: DSA,Microsoft Word, Microsoft PowerPoint, Microsoft Excel,OS    0\n",
      "Technonlogies/Skills known_MERN stack, DSA, C, C++,SQL,NOSQL,OOPS,computer fundamentals                                                                                                                                         0\n",
      "Technonlogies/Skills known_Python , C++, C , HTML ,CSS, SQL,DSA                                                                                                                                                                 0\n",
      "Technonlogies/Skills known_Python ,Django, C++ ,Machine Learning, SQL ,React JS, MongoDB ,HTML ,CSS ,Tailwind CSS,  Javascript, Tools: GitHub, VS Code, PyCharm, pgAdmin,SQLite3, Canva, Figma, Firebase                        0\n",
      "Technonlogies/Skills known_Python, C++, Java, MySQL, MongoDB, PostgreSQL, scikit-learn, TensorFlow, Matplotlib, NumPy, Pandas, HTML, CSS, JavaScript                                                                            0\n",
      "Technonlogies/Skills known_Python, C++, Javascript, CSS, HTML, SQL                                                                                                                                                              0\n",
      "Technonlogies/Skills known_Python, DSA(using Java),Data Analysis,EDA, Mysql, ML, DBMS, HTML, CSS, Bootstrap,                                                                                                                    0\n",
      "Technonlogies/Skills known_Python, SQL, CSS, HTML, MongoDBJS , REACT, POSTGRESQL, Mobile Application Development, Bootstrap                                                                                                     0\n",
      "Technonlogies/Skills known_Python, SQL,MySql, HTML, CSS,Excel,C,pandas,numpy                                                                                                                                                    0\n",
      "Technonlogies/Skills known_html,css, javascript,java,c,c++                                                                                                                                                                      0\n",
      "Technonlogies/Skills known_python , c++ ,sql ,html,css ,Git and version control ,collab                                                                                                                                         0\n",
      "dtype: int64\n"
     ]
    }
   ],
   "source": [
    "# Check for missing values in X_train\n",
    "print(X_train.isnull().sum())\n",
    "\n",
    "# Check for missing values in X_test\n",
    "print(X_test.isnull().sum())"
   ]
  },
  {
   "cell_type": "code",
   "execution_count": null,
   "metadata": {},
   "outputs": [],
   "source": [
    "# Fill missing values with 0\n",
    "X_train = X_train.fillna(0)\n",
    "X_test = X_test.fillna(0)"
   ]
  },
  {
   "cell_type": "code",
   "execution_count": null,
   "metadata": {},
   "outputs": [],
   "source": [
    "from sklearn.preprocessing import StandardScaler\n",
    "\n",
    "# Initialize the scaler\n",
    "scaler = StandardScaler()\n",
    "\n",
    "# Fit the scaler on X_train and transform both X_train and X_test\n",
    "X_train_scaled = scaler.fit_transform(X_train)\n",
    "X_test_scaled = scaler.transform(X_test)"
   ]
  },
  {
   "cell_type": "code",
   "execution_count": null,
   "metadata": {},
   "outputs": [
    {
     "name": "stdout",
     "output_type": "stream",
     "text": [
      "Mean Squared Error: 2.314656475133332\n",
      "R^2 Score: -7.007960435227176\n"
     ]
    }
   ],
   "source": [
    "from sklearn.ensemble import RandomForestRegressor\n",
    "from sklearn.metrics import mean_squared_error, r2_score\n",
    "\n",
    "# Initialize the model\n",
    "model = RandomForestRegressor(random_state=42)\n",
    "\n",
    "# Train the model\n",
    "model.fit(X_train_scaled, y_train)\n",
    "\n",
    "# Predict on the test set\n",
    "y_pred = model.predict(X_test_scaled)\n",
    "\n",
    "# Evaluate the model\n",
    "mse = mean_squared_error(y_test, y_pred)\n",
    "r2 = r2_score(y_test, y_pred)\n",
    "\n",
    "print(f\"Mean Squared Error: {mse}\")\n",
    "print(f\"R^2 Score: {r2}\")"
   ]
  },
  {
   "cell_type": "code",
   "execution_count": null,
   "metadata": {},
   "outputs": [],
   "source": [
    "import pickle\n",
    "\n",
    "# Save the model and scaler\n",
    "pickle.dump(model, open(\"Models/model.pkl\", 'wb'))\n",
    "pickle.dump(scaler, open(\"Models/scaler.pkl\", 'wb'))"
   ]
  },
  {
   "cell_type": "code",
   "execution_count": null,
   "metadata": {},
   "outputs": [],
   "source": [
    "# Load the model and scaler\n",
    "model = pickle.load(open(\"Models/model.pkl\", 'rb'))\n",
    "scaler = pickle.load(open(\"Models/scaler.pkl\", 'rb'))\n",
    "\n",
    "# Example new data (replace with actual data)\n",
    "new_data = pd.DataFrame({\n",
    "    '10th Board%': [85],\n",
    "    '12th Board%': [90],\n",
    "    'Graduation Degree': ['B.E'],\n",
    "    'Grad-Specialization': ['Information Technology'],\n",
    "    'Technonlogies/Skills known': ['Python, SQL, Machine Learning']\n",
    "})\n",
    "\n",
    "# Convert categorical variables to dummy variables\n",
    "new_data = pd.get_dummies(new_data, drop_first=True)\n",
    "\n",
    "# Ensure the new data has the same columns as the training data\n",
    "new_data = new_data.reindex(columns=X.columns, fill_value=0)\n",
    "\n",
    "# Scale the new data\n",
    "new_data_scaled = scaler.transform(new_data)\n",
    "\n",
    "# Make a prediction\n",
    "# predicted_cgpa = model.predict(new_data_scaled)\n",
    "# print(f\"Predicted Graduation CGPA: {predicted_cgpa[0]}\")"
   ]
  },
  {
   "cell_type": "code",
   "execution_count": null,
   "metadata": {},
   "outputs": [
    {
     "name": "stdout",
     "output_type": "stream",
     "text": [
      "1.3.2\n"
     ]
    }
   ],
   "source": [
    "import sklearn\n",
    "print(sklearn.__version__)"
   ]
  },
  {
   "cell_type": "code",
   "execution_count": null,
   "metadata": {},
   "outputs": [],
   "source": [
    "# Replace NaN values in 'Technonlogies/Skills known' with an empty string\n",
    "df[\"Technonlogies/Skills known\"] = df[\"Technonlogies/Skills known\"].fillna(\"\")\n",
    "df[\"Organization worked with (If Any) Eg: Accenture/KPMG\"] = df[\"Organization worked with (If Any) Eg: Accenture/KPMG\"].fillna(\"\")"
   ]
  },
  {
   "cell_type": "code",
   "execution_count": null,
   "metadata": {},
   "outputs": [],
   "source": [
    "df['Graduation CGPA'] = df['Graduation CGPA'].fillna(0.0)\n"
   ]
  },
  {
   "cell_type": "code",
   "execution_count": null,
   "metadata": {},
   "outputs": [],
   "source": [
    "def unified_student_search(search_terms):\n",
    "    \"\"\"\n",
    "    Search students who match ALL terms across skills/sports/extracurriculars \n",
    "    \n",
    "    Parameters:\n",
    "    - search_terms (str): Comma-separated terms (e.g. \"python,hackathon,football\")\n",
    "    \n",
    "    Returns:\n",
    "    - DataFrame of students where EACH term appears in at least one column\n",
    "    \"\"\"\n",
    "    # Clean data\n",
    "    df_clean = df.copy()\n",
    "    df_clean['Technonlogies/Skills known'] = df_clean['Technonlogies/Skills known'].fillna('').str.lower()\n",
    "    df_clean['Sports'] = df_clean['Sports'].fillna('no').str.lower()\n",
    "    df_clean['ExtraCurriculum'] = df_clean['ExtraCurriculum'].fillna('no').str.lower()\n",
    "    \n",
    "    # Process search terms\n",
    "    terms = [term.strip().lower() for term in search_terms.split(\",\")]\n",
    "    \n",
    "    # Filter students where ALL terms appear in any of the three columns\n",
    "    def matches_all_terms(row):\n",
    "        combined_text = f\"{row['Technonlogies/Skills known']} {row['Sports']} {row['ExtraCurriculum']}\"\n",
    "        return all(term in combined_text for term in terms)\n",
    "    \n",
    "    results = df_clean[df_clean.apply(matches_all_terms, axis=1)]\n",
    "    \n",
    "    return results[[\n",
    "        \"Candidate Name\",\n",
    "        \"Technonlogies/Skills known\", \n",
    "        \"Sports\",\n",
    "        \"ExtraCurriculum\",\n",
    "        \"Graduation CGPA\",\n",
    "        \"Primary Email ID (College)\"\n",
    "    ]]\n"
   ]
  },
  {
   "cell_type": "code",
   "execution_count": null,
   "metadata": {},
   "outputs": [
    {
     "name": "stdout",
     "output_type": "stream",
     "text": [
      "Students matching ALL terms: Library\n",
      "============================================================\n",
      "\n",
      "Anshika Gupta (CGPA: 8.76)\n",
      "Email: anshika6304@gmail.com\n",
      "- 'library' found in: Extracurriculars\n",
      "============================================================\n"
     ]
    }
   ],
   "source": [
    "# Example usage:\n",
    "search_input = \"Library\"  # Must appear in ANY of the 3 columns\n",
    "matching_students = unified_student_search(search_input)\n",
    "\n",
    "# Display results\n",
    "print(f\"Students matching ALL terms: {search_input}\")\n",
    "print(\"=\"*60)\n",
    "if not matching_students.empty:\n",
    "    for idx, student in matching_students.iterrows():\n",
    "        print(f\"\\n{student['Candidate Name']} (CGPA: {student['Graduation CGPA']})\")\n",
    "        print(f\"Email: {student['Primary Email ID (College)']}\")\n",
    "        \n",
    "        # Highlight which column contains each term\n",
    "        for term in search_input.split(\",\"):\n",
    "            term = term.strip().lower()\n",
    "            found_in = []\n",
    "            if term in student['Technonlogies/Skills known'].lower():\n",
    "                found_in.append(\"Skills\")\n",
    "            if term in student['Sports'].lower():\n",
    "                found_in.append(\"Sports\")\n",
    "            if term in student['ExtraCurriculum'].lower():\n",
    "                found_in.append(\"Extracurriculars\")\n",
    "            print(f\"- '{term}' found in: {', '.join(found_in)}\")\n",
    "        \n",
    "        print(\"=\"*60)\n",
    "else:\n",
    "    print(\"No students match ALL search terms\")\n"
   ]
  },
  {
   "cell_type": "code",
   "execution_count": null,
   "metadata": {},
   "outputs": [],
   "source": []
  }
 ],
 "metadata": {
  "kernelspec": {
   "display_name": "Python 3",
   "language": "python",
   "name": "python3"
  },
  "language_info": {
   "codemirror_mode": {
    "name": "ipython",
    "version": 3
   },
   "file_extension": ".py",
   "mimetype": "text/x-python",
   "name": "python",
   "nbconvert_exporter": "python",
   "pygments_lexer": "ipython3",
   "version": "3.11.9"
  }
 },
 "nbformat": 4,
 "nbformat_minor": 2
}
